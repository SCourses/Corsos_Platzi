{
 "cells": [
  {
   "cell_type": "code",
   "execution_count": 3,
   "metadata": {},
   "outputs": [
    {
     "name": "stdout",
     "output_type": "stream",
     "text": [
      "        fecha nombre_correo  numero_de_correos\n",
      "0  2023-06-01       correo1                  1\n",
      "1  2023-06-01       correo2                  2\n",
      "2  2023-06-01       correo3                  3\n",
      "3  2023-06-01       correo4                  4\n",
      "4  2023-06-01       correo5                  5\n",
      "5  2023-06-02       correo1                  1\n",
      "6  2023-06-02       correo2                  2\n",
      "7  2023-06-02       correo3                  3\n",
      "8  2023-06-02       correo4                  4\n",
      "9  2023-06-02       correo5                  5\n",
      "10 2023-06-03       correo1                  1\n",
      "11 2023-06-03       correo2                  2\n",
      "12 2023-06-03       correo3                  3\n",
      "13 2023-06-03       correo4                  4\n",
      "14 2023-06-03       correo5                  5\n",
      "15 2023-06-04       correo1                  1\n",
      "16 2023-06-04       correo2                  2\n",
      "17 2023-06-04       correo3                  3\n",
      "18 2023-06-04       correo4                  4\n",
      "19 2023-06-04       correo5                  5\n",
      "20 2023-06-05       correo1                  1\n",
      "21 2023-06-05       correo2                  2\n",
      "22 2023-06-05       correo3                  3\n",
      "23 2023-06-05       correo4                  4\n",
      "24 2023-06-05       correo5                  5\n",
      "El correo con el mayor incremento de número de correos en dos días consecutivos es: correo5\n",
      "El incremento máximo fue: 4\n"
     ]
    }
   ],
   "source": [
    "import pandas as pd\n",
    "from datetime import datetime, timedelta\n",
    "\n",
    "# Crear un ejemplo de DataFrame con 5 correos por día\n",
    "fecha_inicio = datetime(2023, 6, 1)\n",
    "dias = 5\n",
    "total_correos = 5\n",
    "\n",
    "data = []\n",
    "for i in range(dias):\n",
    "    fecha = fecha_inicio + timedelta(days=i)\n",
    "    for j in range(total_correos):\n",
    "        correo = f'correo{j+1}'\n",
    "        numero_correos = j + 1\n",
    "        data.append({'fecha': fecha, 'nombre_correo': correo, 'numero_de_correos': numero_correos})\n",
    "\n",
    "df = pd.DataFrame(data)\n",
    "\n",
    "# Imprimir el DataFrame\n",
    "print(df)\n",
    "\n",
    "df['fecha'] = pd.to_datetime(df['fecha'])\n",
    "\n",
    "# Ordenar el DataFrame por la columna de fecha\n",
    "df = df.sort_values('fecha')\n",
    "\n",
    "# Inicializar variables\n",
    "max_incremento = 0\n",
    "correo_max_incremento = None\n",
    "max_fecha_anterior = None\n",
    "\n",
    "# Calcular el máximo incremento entre días consecutivos y rastrear el correo correspondiente\n",
    "for index, row in df.iterrows():\n",
    "    if max_fecha_anterior is not None:\n",
    "        fecha_actual = row['fecha']\n",
    "        incremento = row['numero_de_correos'] - df.loc[df['fecha'] == max_fecha_anterior, 'numero_de_correos'].iloc[0]\n",
    "        if fecha_actual - max_fecha_anterior == timedelta(days=1) and incremento > max_incremento:\n",
    "            max_incremento = incremento\n",
    "            correo_max_incremento = row['nombre_correo']\n",
    "    max_fecha_anterior = row['fecha']\n",
    "\n",
    "# Imprimir el resultado\n",
    "print(\"El correo con el mayor incremento de número de correos en dos días consecutivos es:\", correo_max_incremento)\n",
    "print(\"El incremento máximo fue:\", max_incremento)"
   ]
  }
 ],
 "metadata": {
  "kernelspec": {
   "display_name": "datasc",
   "language": "python",
   "name": "python3"
  },
  "language_info": {
   "codemirror_mode": {
    "name": "ipython",
    "version": 3
   },
   "file_extension": ".py",
   "mimetype": "text/x-python",
   "name": "python",
   "nbconvert_exporter": "python",
   "pygments_lexer": "ipython3",
   "version": "3.9.0"
  },
  "orig_nbformat": 4,
  "vscode": {
   "interpreter": {
    "hash": "79dbe34f3331601ea2f78c84d14ae09801f1eed37b2e507eb3f329a4df7d13e6"
   }
  }
 },
 "nbformat": 4,
 "nbformat_minor": 2
}
