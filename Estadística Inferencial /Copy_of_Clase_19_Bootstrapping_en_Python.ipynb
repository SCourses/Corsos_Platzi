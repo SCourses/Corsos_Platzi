{
  "cells": [
    {
      "cell_type": "markdown",
      "metadata": {
        "id": "Esy8eTT9Y0d2"
      },
      "source": [
        "#### Importamos las librerías necesarias para el análisis"
      ]
    },
    {
      "cell_type": "code",
      "execution_count": 1,
      "metadata": {
        "id": "DVk5cURAYhOq"
      },
      "outputs": [],
      "source": [
        "import pandas as pd\n",
        "import numpy as np \n",
        "import random"
      ]
    },
    {
      "cell_type": "code",
      "execution_count": 2,
      "metadata": {
        "colab": {
          "base_uri": "https://localhost:8080/"
        },
        "id": "yvAAawcmZjT-",
        "outputId": "6a8b6815-4d67-443c-ee5b-8eb966131654"
      },
      "outputs": [
        {
          "data": {
            "text/plain": [
              "array([34.66122623, 32.7850626 , 34.29779292, ..., 33.29325937,\n",
              "       34.33408269, 33.56960966])"
            ]
          },
          "execution_count": 2,
          "metadata": {},
          "output_type": "execute_result"
        }
      ],
      "source": [
        "# Creamos una muestra aleatoria de 10,0000 personas que tienen una edad promedio de 34 años\n",
        "data = np.random.normal(loc= 34, size=10000)\n",
        "data"
      ]
    },
    {
      "cell_type": "code",
      "execution_count": 3,
      "metadata": {
        "colab": {
          "base_uri": "https://localhost:8080/"
        },
        "id": "qzv5NJTFZ9LV",
        "outputId": "eb550fe9-353b-4f52-ee81-1ba4c741b127"
      },
      "outputs": [
        {
          "data": {
            "text/plain": [
              "33.99337452293069"
            ]
          },
          "execution_count": 3,
          "metadata": {},
          "output_type": "execute_result"
        }
      ],
      "source": [
        "# Comprobamos cuál es el promedio de edad de nuestra base\n",
        "data.mean()"
      ]
    },
    {
      "cell_type": "markdown",
      "metadata": {
        "id": "ZxPFUkfNaRa8"
      },
      "source": [
        "#### Iniciamos el procedimiento para calcular el promedio de edad a partir de bootstrapping"
      ]
    },
    {
      "cell_type": "code",
      "execution_count": 4,
      "metadata": {
        "id": "FCvH2oSvaPrI"
      },
      "outputs": [],
      "source": [
        "# Vamos a crear 40 muestras de tamaño 5 para estimar el promedio\n",
        "promedio = []\n",
        "for i in range(40):\n",
        "  muestra = random.sample(data.tolist(), 5)\n",
        "  prom = np.mean(muestra)\n",
        "  promedio.append(prom)"
      ]
    },
    {
      "cell_type": "markdown",
      "metadata": {
        "id": "WzDbMqsfbKcT"
      },
      "source": [
        "La lista llamada promedio que hemos creado va a contener el promedio para las 40 muestras. Para estimar el promedio de la población tenemos que calcular el promedio de la lista promedio."
      ]
    },
    {
      "cell_type": "code",
      "execution_count": 5,
      "metadata": {
        "colab": {
          "base_uri": "https://localhost:8080/"
        },
        "id": "G-gg965VbH5f",
        "outputId": "f2ec41c7-b5bf-4441-a1ed-e193ed31a950"
      },
      "outputs": [
        {
          "data": {
            "text/plain": [
              "34.04230457868613"
            ]
          },
          "execution_count": 5,
          "metadata": {},
          "output_type": "execute_result"
        }
      ],
      "source": [
        "np.mean(promedio)"
      ]
    },
    {
      "cell_type": "markdown",
      "metadata": {
        "id": "iY2MIMhHcRS-"
      },
      "source": [
        "Cada vez obtendríamos un resultado diferente. El muestreo por bootstrapping saca promedios de una población creando muestras más pequeñas y se usa para DS e IA para evitar el overfitting. El sobreajuste es un error de modelado que se produce cuando una función se ajusta demasiado a un conjunto limitado de puntos de datos"
      ]
    }
  ],
  "metadata": {
    "colab": {
      "provenance": []
    },
    "kernelspec": {
      "display_name": "Python 3",
      "language": "python",
      "name": "python3"
    },
    "language_info": {
      "codemirror_mode": {
        "name": "ipython",
        "version": 3
      },
      "file_extension": ".py",
      "mimetype": "text/x-python",
      "name": "python",
      "nbconvert_exporter": "python",
      "pygments_lexer": "ipython3",
      "version": "3.10.7"
    },
    "vscode": {
      "interpreter": {
        "hash": "916dbcbb3f70747c44a77c7bcd40155683ae19c65e1c03b4aa3499c5328201f1"
      }
    }
  },
  "nbformat": 4,
  "nbformat_minor": 0
}
