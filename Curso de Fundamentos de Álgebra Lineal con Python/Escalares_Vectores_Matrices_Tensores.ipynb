{
 "cells": [
  {
   "cell_type": "code",
   "execution_count": 2,
   "metadata": {},
   "outputs": [],
   "source": [
    "import numpy as np"
   ]
  },
  {
   "cell_type": "code",
   "execution_count": 3,
   "metadata": {},
   "outputs": [
    {
     "name": "stdout",
     "output_type": "stream",
     "text": [
      "[1 2 3]\n"
     ]
    }
   ],
   "source": [
    "vector = np.array([1,2,3])\n",
    "print(vector)"
   ]
  },
  {
   "cell_type": "code",
   "execution_count": 4,
   "metadata": {},
   "outputs": [
    {
     "name": "stdout",
     "output_type": "stream",
     "text": [
      "[[1 2 3]\n",
      " [4 5 6]\n",
      " [7 8 9]]\n"
     ]
    }
   ],
   "source": [
    "matrix= np.array([[1,2,3],[4,5,6],[7,8,9]])\n",
    "print(matrix)"
   ]
  },
  {
   "cell_type": "code",
   "execution_count": 43,
   "metadata": {},
   "outputs": [
    {
     "name": "stdout",
     "output_type": "stream",
     "text": [
      "[[[255 255 255]\n",
      "  [255 255 255]\n",
      "  [128  64  64]\n",
      "  [128  64  64]\n",
      "  [128  64  64]\n",
      "  [255 255 255]\n",
      "  [255 255 255]\n",
      "  [128  64  64]\n",
      "  [128  64  64]\n",
      "  [128  64  64]\n",
      "  [255 255 255]\n",
      "  [255 255 255]]\n",
      "\n",
      " [[255 255 255]\n",
      "  [128  64  64]\n",
      "  [216 179  52]\n",
      "  [216 179  52]\n",
      "  [216 179  52]\n",
      "  [128  64  64]\n",
      "  [128  64  64]\n",
      "  [216 179  52]\n",
      "  [216 179  52]\n",
      "  [216 179  52]\n",
      "  [128  64  64]\n",
      "  [255 255 255]]\n",
      "\n",
      " [[128  64  64]\n",
      "  [216 179  52]\n",
      "  [216 179  52]\n",
      "  [216 179  52]\n",
      "  [216 179  52]\n",
      "  [216 179  52]\n",
      "  [216 179  52]\n",
      "  [216 179  52]\n",
      "  [216 179  52]\n",
      "  [216 179  52]\n",
      "  [216 179  52]\n",
      "  [128  64  64]]\n",
      "\n",
      " [[128  64  64]\n",
      "  [216 179  52]\n",
      "  [216 179  52]\n",
      "  [  0   0   0]\n",
      "  [255 255 255]\n",
      "  [216 179  52]\n",
      "  [216 179  52]\n",
      "  [  0   0   0]\n",
      "  [255 255 255]\n",
      "  [216 179  52]\n",
      "  [216 179  52]\n",
      "  [128  64  64]]\n",
      "\n",
      " [[128  64  64]\n",
      "  [216 179  52]\n",
      "  [216 179  52]\n",
      "  [  0   0   0]\n",
      "  [  0   0   0]\n",
      "  [216 179  52]\n",
      "  [216 179  52]\n",
      "  [  0   0   0]\n",
      "  [  0   0   0]\n",
      "  [216 179  52]\n",
      "  [216 179  52]\n",
      "  [128  64  64]]\n",
      "\n",
      " [[255 255 255]\n",
      "  [128  64  64]\n",
      "  [255 128 192]\n",
      "  [255 128 192]\n",
      "  [216 179  52]\n",
      "  [216 179  52]\n",
      "  [216 179  52]\n",
      "  [216 179  52]\n",
      "  [255 128 192]\n",
      "  [255 128 192]\n",
      "  [128  64  64]\n",
      "  [255 255 255]]\n",
      "\n",
      " [[255 255 255]\n",
      "  [128  64  64]\n",
      "  [216 179  52]\n",
      "  [216 179  52]\n",
      "  [216 179  52]\n",
      "  [216 179  52]\n",
      "  [216 179  52]\n",
      "  [216 179  52]\n",
      "  [216 179  52]\n",
      "  [216 179  52]\n",
      "  [128  64  64]\n",
      "  [255 255 255]]\n",
      "\n",
      " [[255 255 255]\n",
      "  [128  64  64]\n",
      "  [216 179  52]\n",
      "  [216 179  52]\n",
      "  [216 179  52]\n",
      "  [216 179  52]\n",
      "  [216 179  52]\n",
      "  [216 179  52]\n",
      "  [216 179  52]\n",
      "  [216 179  52]\n",
      "  [128  64  64]\n",
      "  [255 255 255]]\n",
      "\n",
      " [[255 255 255]\n",
      "  [128  64  64]\n",
      "  [216 179  52]\n",
      "  [216 179  52]\n",
      "  [216 179  52]\n",
      "  [216 179  52]\n",
      "  [216 179  52]\n",
      "  [216 179  52]\n",
      "  [216 179  52]\n",
      "  [216 179  52]\n",
      "  [128  64  64]\n",
      "  [255 255 255]]\n",
      "\n",
      " [[255 255 255]\n",
      "  [128  64  64]\n",
      "  [216 179  52]\n",
      "  [216 179  52]\n",
      "  [216 179  52]\n",
      "  [216 179  52]\n",
      "  [216 179  52]\n",
      "  [216 179  52]\n",
      "  [216 179  52]\n",
      "  [216 179  52]\n",
      "  [128  64  64]\n",
      "  [255 255 255]]\n",
      "\n",
      " [[255 255 255]\n",
      "  [128  64  64]\n",
      "  [128  64  64]\n",
      "  [128  64  64]\n",
      "  [128  64  64]\n",
      "  [128  64  64]\n",
      "  [128  64  64]\n",
      "  [128  64  64]\n",
      "  [128  64  64]\n",
      "  [128  64  64]\n",
      "  [128  64  64]\n",
      "  [255 255 255]]]\n"
     ]
    }
   ],
   "source": [
    "tensor=np.array(\n",
    "    [[[255,255,255],[255,255,255],[128,64,64],[128,64,64],[128,64,64],[255,255,255],[255,255,255],[128,64,64],[128,64,64],[128,64,64],[255,255,255],[255,255,255]],\n",
    "    [[255,255,255],[128,64,64],[216,179,52],[216,179,52],[216,179,52],[128,64,64],[128,64,64],[216,179,52],[216,179,52],[216,179,52],[128,64,64],[255,255,255]],\n",
    "    [[128,64,64],[216,179,52],[216,179,52],[216,179,52],[216,179,52],[216,179,52],[216,179,52],[216,179,52],[216,179,52],[216,179,52],[216,179,52],[128,64,64]],\n",
    "    [[128,64,64],[216,179,52],[216,179,52],[0,0,0],[255,255,255],[216,179,52],[216,179,52],[0,0,0],[255,255,255],[216,179,52],[216,179,52],[128,64,64]],\n",
    "    [[128,64,64],[216,179,52],[216,179,52],[0,0,0],[0,0,0],[216,179,52],[216,179,52],[0,0,0],[0,0,0],[216,179,52],[216,179,52],[128,64,64]],\n",
    "    [[255,255,255],[128,64,64],[255,128,192],[255,128,192],[216,179,52],[216,179,52],[216,179,52],[216,179,52],[255,128,192],[255,128,192],[128,64,64],[255,255,255]],\n",
    "    [[255,255,255],[128,64,64],[216,179,52],[216,179,52],[216,179,52],[216,179,52],[216,179,52],[216,179,52],[216,179,52],[216,179,52],[128,64,64],[255,255,255]],\n",
    "    [[255,255,255],[128,64,64],[216,179,52],[216,179,52],[216,179,52],[216,179,52],[216,179,52],[216,179,52],[216,179,52],[216,179,52],[128,64,64],[255,255,255]],\n",
    "    [[255,255,255],[128,64,64],[216,179,52],[216,179,52],[216,179,52],[216,179,52],[216,179,52],[216,179,52],[216,179,52],[216,179,52],[128,64,64],[255,255,255]],\n",
    "    [[255,255,255],[128,64,64],[216,179,52],[216,179,52],[216,179,52],[216,179,52],[216,179,52],[216,179,52],[216,179,52],[216,179,52],[128,64,64],[255,255,255]],\n",
    "    [[255,255,255],[128,64,64],[128,64,64],[128,64,64],[128,64,64],[128,64,64],[128,64,64],[128,64,64],[128,64,64],[128,64,64],[128,64,64],[255,255,255]]]\n",
    "    )\n",
    "print(tensor)"
   ]
  },
  {
   "cell_type": "code",
   "execution_count": 9,
   "metadata": {},
   "outputs": [],
   "source": [
    "from pylab import *\n",
    "import matplotlib.pyplot as plt"
   ]
  },
  {
   "cell_type": "code",
   "execution_count": 44,
   "metadata": {},
   "outputs": [
    {
     "data": {
      "image/png": "[encoded data removed]",
      "text/plain": [
       "<Figure size 640x480 with 1 Axes>"
      ]
     },
     "metadata": {},
     "output_type": "display_data"
    }
   ],
   "source": [
    "plt,imshow(tensor,interpolation='nearest')\n",
    "plt.show()"
   ]
  },
  {
   "cell_type": "code",
   "execution_count": 47,
   "metadata": {},
   "outputs": [
    {
     "name": "stdout",
     "output_type": "stream",
     "text": [
      "[[ 2  7 10]\n",
      " [ 3  8 11]]\n"
     ]
    }
   ],
   "source": [
    "Vector=np.array([1,2,3])\n",
    "Matriz=np.array([[1,2],[5,6],[7,8]])\n",
    "Suma=Matriz.T+Vector\n",
    "print(Suma)"
   ]
  },
  {
   "cell_type": "code",
   "execution_count": 48,
   "metadata": {},
   "outputs": [],
   "source": [
    "A=np.array([[1,2],[3,4],[5,6]])\n",
    "B=np.array([[1,2,3,4],[4,5,6,8]])"
   ]
  },
  {
   "cell_type": "code",
   "execution_count": 49,
   "metadata": {},
   "outputs": [
    {
     "data": {
      "text/plain": [
       "array([[ 9, 12, 15, 20],\n",
       "       [19, 26, 33, 44],\n",
       "       [29, 40, 51, 68]])"
      ]
     },
     "execution_count": 49,
     "metadata": {},
     "output_type": "execute_result"
    }
   ],
   "source": [
    "np.dot(A,B)"
   ]
  }
 ],
 "metadata": {
  "kernelspec": {
   "display_name": "datasc",
   "language": "python",
   "name": "python3"
  },
  "language_info": {
   "codemirror_mode": {
    "name": "ipython",
    "version": 3
   },
   "file_extension": ".py",
   "mimetype": "text/x-python",
   "name": "python",
   "nbconvert_exporter": "python",
   "pygments_lexer": "ipython3",
   "version": "3.9.0"
  },
  "orig_nbformat": 4,
  "vscode": {
   "interpreter": {
    "hash": "79dbe34f3331601ea2f78c84d14ae09801f1eed37b2e507eb3f329a4df7d13e6"
   }
  }
 },
 "nbformat": 4,
 "nbformat_minor": 2
}
